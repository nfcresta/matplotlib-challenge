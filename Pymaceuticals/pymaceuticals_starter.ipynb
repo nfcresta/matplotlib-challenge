{
 "cells": [
  {
   "cell_type": "markdown",
   "metadata": {},
   "source": [
    "## Observations and Insights "
   ]
  },
  {
   "cell_type": "markdown",
   "metadata": {},
   "source": []
  },
  {
   "cell_type": "code",
   "execution_count": 2,
   "metadata": {},
   "outputs": [
    {
     "data": {
      "text/html": [
       "<div>\n",
       "<style scoped>\n",
       "    .dataframe tbody tr th:only-of-type {\n",
       "        vertical-align: middle;\n",
       "    }\n",
       "\n",
       "    .dataframe tbody tr th {\n",
       "        vertical-align: top;\n",
       "    }\n",
       "\n",
       "    .dataframe thead th {\n",
       "        text-align: right;\n",
       "    }\n",
       "</style>\n",
       "<table border=\"1\" class=\"dataframe\">\n",
       "  <thead>\n",
       "    <tr style=\"text-align: right;\">\n",
       "      <th></th>\n",
       "      <th>Mouse ID</th>\n",
       "      <th>Drug Regimen</th>\n",
       "      <th>Sex</th>\n",
       "      <th>Age_months</th>\n",
       "      <th>Weight (g)</th>\n",
       "      <th>Timepoint</th>\n",
       "      <th>Tumor Volume (mm3)</th>\n",
       "      <th>Metastatic Sites</th>\n",
       "    </tr>\n",
       "  </thead>\n",
       "  <tbody>\n",
       "    <tr>\n",
       "      <th>0</th>\n",
       "      <td>k403</td>\n",
       "      <td>Ramicane</td>\n",
       "      <td>Male</td>\n",
       "      <td>21</td>\n",
       "      <td>16</td>\n",
       "      <td>0</td>\n",
       "      <td>45.000000</td>\n",
       "      <td>0</td>\n",
       "    </tr>\n",
       "    <tr>\n",
       "      <th>1</th>\n",
       "      <td>k403</td>\n",
       "      <td>Ramicane</td>\n",
       "      <td>Male</td>\n",
       "      <td>21</td>\n",
       "      <td>16</td>\n",
       "      <td>5</td>\n",
       "      <td>38.825898</td>\n",
       "      <td>0</td>\n",
       "    </tr>\n",
       "    <tr>\n",
       "      <th>2</th>\n",
       "      <td>k403</td>\n",
       "      <td>Ramicane</td>\n",
       "      <td>Male</td>\n",
       "      <td>21</td>\n",
       "      <td>16</td>\n",
       "      <td>10</td>\n",
       "      <td>35.014271</td>\n",
       "      <td>1</td>\n",
       "    </tr>\n",
       "    <tr>\n",
       "      <th>3</th>\n",
       "      <td>k403</td>\n",
       "      <td>Ramicane</td>\n",
       "      <td>Male</td>\n",
       "      <td>21</td>\n",
       "      <td>16</td>\n",
       "      <td>15</td>\n",
       "      <td>34.223992</td>\n",
       "      <td>1</td>\n",
       "    </tr>\n",
       "    <tr>\n",
       "      <th>4</th>\n",
       "      <td>k403</td>\n",
       "      <td>Ramicane</td>\n",
       "      <td>Male</td>\n",
       "      <td>21</td>\n",
       "      <td>16</td>\n",
       "      <td>20</td>\n",
       "      <td>32.997729</td>\n",
       "      <td>1</td>\n",
       "    </tr>\n",
       "  </tbody>\n",
       "</table>\n",
       "</div>"
      ],
      "text/plain": [
       "  Mouse ID Drug Regimen   Sex  Age_months  Weight (g)  Timepoint  \\\n",
       "0     k403     Ramicane  Male          21          16          0   \n",
       "1     k403     Ramicane  Male          21          16          5   \n",
       "2     k403     Ramicane  Male          21          16         10   \n",
       "3     k403     Ramicane  Male          21          16         15   \n",
       "4     k403     Ramicane  Male          21          16         20   \n",
       "\n",
       "   Tumor Volume (mm3)  Metastatic Sites  \n",
       "0           45.000000                 0  \n",
       "1           38.825898                 0  \n",
       "2           35.014271                 1  \n",
       "3           34.223992                 1  \n",
       "4           32.997729                 1  "
      ]
     },
     "execution_count": 2,
     "metadata": {},
     "output_type": "execute_result"
    }
   ],
   "source": [
    "# Dependencies and Setup\n",
    "import matplotlib.pyplot as plt\n",
    "import pandas as pd\n",
    "import scipy.stats as sts\n",
    "import numpy as np\n",
    "\n",
    "# Study data files\n",
    "mouse_metadata_path = \"data/Mouse_metadata.csv\"\n",
    "study_results_path = \"data/Study_results.csv\"\n",
    "\n",
    "# Read the mouse data and the study results\n",
    "mouse_metadata = pd.read_csv(mouse_metadata_path)\n",
    "study_results = pd.read_csv(study_results_path)\n",
    "\n",
    "# Combine the data into a single dataset\n",
    "combined_data = pd.merge(mouse_metadata, study_results, on=\"Mouse ID\")\n",
    "# Display the data table for preview\n",
    "combined_data.head()"
   ]
  },
  {
   "cell_type": "code",
   "execution_count": 3,
   "metadata": {},
   "outputs": [
    {
     "data": {
      "text/plain": [
       "1893"
      ]
     },
     "execution_count": 3,
     "metadata": {},
     "output_type": "execute_result"
    }
   ],
   "source": [
    "# Checking the number of mice.\n",
    "number_of_mice = len(combined_data[\"Mouse ID\"])\n",
    "number_of_mice"
   ]
  },
  {
   "cell_type": "code",
   "execution_count": 4,
   "metadata": {},
   "outputs": [],
   "source": [
    "# Getting the duplicate mice by ID number that shows up for Mouse ID and Timepoint. \n",
    "duplicates = combined_data.loc[combined_data.duplicated(subset=['Mouse ID', 'Timepoint',]),'Mouse ID'].unique()\n"
   ]
  },
  {
   "cell_type": "code",
   "execution_count": 5,
   "metadata": {},
   "outputs": [],
   "source": [
    "# Optional: Get all the data for the duplicate mouse ID. \n",
    "duplicated_data = combined_data.loc[combined_data[\"Mouse ID\"]==\"g898\", [\"Drug Regimen\", \"Sex\", \"Age_months\", \"Weight (g)\", \"Timepoint\",\n",
    "                                   \"Tumor Volume (mm3)\", \"Metastatic Sites\"]]"
   ]
  },
  {
   "cell_type": "code",
   "execution_count": 6,
   "metadata": {},
   "outputs": [],
   "source": [
    "# Create a clean DataFrame by dropping the duplicate mouse by its ID.\n",
    "combined_data = combined_data[combined_data['Mouse ID'].isin(duplicates)==False]"
   ]
  },
  {
   "cell_type": "code",
   "execution_count": 7,
   "metadata": {},
   "outputs": [
    {
     "name": "stdout",
     "output_type": "stream",
     "text": [
      "1880\n"
     ]
    }
   ],
   "source": [
    "# Checking the number of mice in the clean DataFrame.\n",
    "print(len(combined_data[\"Mouse ID\"]))"
   ]
  },
  {
   "cell_type": "markdown",
   "metadata": {},
   "source": [
    "## Summary Statistics"
   ]
  },
  {
   "cell_type": "code",
   "execution_count": 8,
   "metadata": {},
   "outputs": [],
   "source": [
    "# Generate a summary statistics table of mean, median, variance, standard deviation, and SEM of the tumor volume for each regimen"
   ]
  },
  {
   "cell_type": "code",
   "execution_count": 46,
   "metadata": {},
   "outputs": [
    {
     "data": {
      "text/html": [
       "<div>\n",
       "<style scoped>\n",
       "    .dataframe tbody tr th:only-of-type {\n",
       "        vertical-align: middle;\n",
       "    }\n",
       "\n",
       "    .dataframe tbody tr th {\n",
       "        vertical-align: top;\n",
       "    }\n",
       "\n",
       "    .dataframe thead th {\n",
       "        text-align: right;\n",
       "    }\n",
       "</style>\n",
       "<table border=\"1\" class=\"dataframe\">\n",
       "  <thead>\n",
       "    <tr style=\"text-align: right;\">\n",
       "      <th></th>\n",
       "      <th>Mean Volume</th>\n",
       "      <th>Median Volume</th>\n",
       "      <th>Variance</th>\n",
       "      <th>Standard Deviation</th>\n",
       "      <th>SEM</th>\n",
       "    </tr>\n",
       "    <tr>\n",
       "      <th>Drug Regimen</th>\n",
       "      <th></th>\n",
       "      <th></th>\n",
       "      <th></th>\n",
       "      <th></th>\n",
       "      <th></th>\n",
       "    </tr>\n",
       "  </thead>\n",
       "  <tbody>\n",
       "    <tr>\n",
       "      <th>Capomulin</th>\n",
       "      <td>40.675741</td>\n",
       "      <td>41.557809</td>\n",
       "      <td>24.947764</td>\n",
       "      <td>4.994774</td>\n",
       "      <td>0.329346</td>\n",
       "    </tr>\n",
       "    <tr>\n",
       "      <th>Ceftamin</th>\n",
       "      <td>52.591172</td>\n",
       "      <td>51.776157</td>\n",
       "      <td>39.290177</td>\n",
       "      <td>6.268188</td>\n",
       "      <td>0.469821</td>\n",
       "    </tr>\n",
       "    <tr>\n",
       "      <th>Infubinol</th>\n",
       "      <td>52.884795</td>\n",
       "      <td>51.820584</td>\n",
       "      <td>43.128684</td>\n",
       "      <td>6.567243</td>\n",
       "      <td>0.492236</td>\n",
       "    </tr>\n",
       "    <tr>\n",
       "      <th>Ketapril</th>\n",
       "      <td>55.235638</td>\n",
       "      <td>53.698743</td>\n",
       "      <td>68.553577</td>\n",
       "      <td>8.279709</td>\n",
       "      <td>0.603860</td>\n",
       "    </tr>\n",
       "    <tr>\n",
       "      <th>Naftisol</th>\n",
       "      <td>54.331565</td>\n",
       "      <td>52.509285</td>\n",
       "      <td>66.173479</td>\n",
       "      <td>8.134708</td>\n",
       "      <td>0.596466</td>\n",
       "    </tr>\n",
       "    <tr>\n",
       "      <th>Placebo</th>\n",
       "      <td>54.033581</td>\n",
       "      <td>52.288934</td>\n",
       "      <td>61.168083</td>\n",
       "      <td>7.821003</td>\n",
       "      <td>0.581331</td>\n",
       "    </tr>\n",
       "    <tr>\n",
       "      <th>Propriva</th>\n",
       "      <td>52.320930</td>\n",
       "      <td>50.446266</td>\n",
       "      <td>43.852013</td>\n",
       "      <td>6.622085</td>\n",
       "      <td>0.544332</td>\n",
       "    </tr>\n",
       "    <tr>\n",
       "      <th>Ramicane</th>\n",
       "      <td>40.216745</td>\n",
       "      <td>40.673236</td>\n",
       "      <td>23.486704</td>\n",
       "      <td>4.846308</td>\n",
       "      <td>0.320955</td>\n",
       "    </tr>\n",
       "    <tr>\n",
       "      <th>Stelasyn</th>\n",
       "      <td>54.233149</td>\n",
       "      <td>52.431737</td>\n",
       "      <td>59.450562</td>\n",
       "      <td>7.710419</td>\n",
       "      <td>0.573111</td>\n",
       "    </tr>\n",
       "    <tr>\n",
       "      <th>Zoniferol</th>\n",
       "      <td>53.236507</td>\n",
       "      <td>51.818479</td>\n",
       "      <td>48.533355</td>\n",
       "      <td>6.966589</td>\n",
       "      <td>0.516398</td>\n",
       "    </tr>\n",
       "  </tbody>\n",
       "</table>\n",
       "</div>"
      ],
      "text/plain": [
       "              Mean Volume  Median Volume   Variance  Standard Deviation  \\\n",
       "Drug Regimen                                                              \n",
       "Capomulin       40.675741      41.557809  24.947764            4.994774   \n",
       "Ceftamin        52.591172      51.776157  39.290177            6.268188   \n",
       "Infubinol       52.884795      51.820584  43.128684            6.567243   \n",
       "Ketapril        55.235638      53.698743  68.553577            8.279709   \n",
       "Naftisol        54.331565      52.509285  66.173479            8.134708   \n",
       "Placebo         54.033581      52.288934  61.168083            7.821003   \n",
       "Propriva        52.320930      50.446266  43.852013            6.622085   \n",
       "Ramicane        40.216745      40.673236  23.486704            4.846308   \n",
       "Stelasyn        54.233149      52.431737  59.450562            7.710419   \n",
       "Zoniferol       53.236507      51.818479  48.533355            6.966589   \n",
       "\n",
       "                   SEM  \n",
       "Drug Regimen            \n",
       "Capomulin     0.329346  \n",
       "Ceftamin      0.469821  \n",
       "Infubinol     0.492236  \n",
       "Ketapril      0.603860  \n",
       "Naftisol      0.596466  \n",
       "Placebo       0.581331  \n",
       "Propriva      0.544332  \n",
       "Ramicane      0.320955  \n",
       "Stelasyn      0.573111  \n",
       "Zoniferol     0.516398  "
      ]
     },
     "execution_count": 46,
     "metadata": {},
     "output_type": "execute_result"
    }
   ],
   "source": [
    "# Use groupby and summary statistical methods to calculate the following properties of each drug regimen: \n",
    "# mean, median, variance, standard deviation, and SEM of the tumor volume. \n",
    "# Assemble the resulting series into a single summary dataframe.\n",
    "indexed_combined_data = combined_data.set_index(\"Drug Regimen\")\n",
    "grouped_regimen = indexed_combined_data.groupby(\"Drug Regimen\")\n",
    "\n",
    "# Calculate the values for the dataframe\n",
    "grouped_regimen_mean = (grouped_regimen).mean()[\"Tumor Volume (mm3)\"]\n",
    "grouped_regimen_median = (grouped_regimen).median()[\"Tumor Volume (mm3)\"]\n",
    "grouped_regimen_var = grouped_regimen[\"Tumor Volume (mm3)\"].var()\n",
    "grouped_regimen_std = grouped_regimen[\"Tumor Volume (mm3)\"].std()\n",
    "grouped_regimen_sem = grouped_regimen[\"Tumor Volume (mm3)\"].sem()\n",
    "\n",
    "# Create dataframe\n",
    "summary_stats = pd.DataFrame({\"Mean Volume\": grouped_regimen_mean,\n",
    "                                  \"Median Volume\": grouped_regimen_median,\n",
    "                                  \"Variance\": grouped_regimen_var,\n",
    "                                  \"Standard Deviation\": grouped_regimen_std,\n",
    "                                  \"SEM\": grouped_regimen_sem})\n",
    "summary_stats"
   ]
  },
  {
   "cell_type": "code",
   "execution_count": 47,
   "metadata": {},
   "outputs": [
    {
     "data": {
      "text/html": [
       "<div>\n",
       "<style scoped>\n",
       "    .dataframe tbody tr th:only-of-type {\n",
       "        vertical-align: middle;\n",
       "    }\n",
       "\n",
       "    .dataframe tbody tr th {\n",
       "        vertical-align: top;\n",
       "    }\n",
       "\n",
       "    .dataframe thead th {\n",
       "        text-align: right;\n",
       "    }\n",
       "</style>\n",
       "<table border=\"1\" class=\"dataframe\">\n",
       "  <thead>\n",
       "    <tr style=\"text-align: right;\">\n",
       "      <th></th>\n",
       "      <th>mean</th>\n",
       "      <th>median</th>\n",
       "      <th>var</th>\n",
       "      <th>std</th>\n",
       "      <th>sem</th>\n",
       "    </tr>\n",
       "    <tr>\n",
       "      <th>Drug Regimen</th>\n",
       "      <th></th>\n",
       "      <th></th>\n",
       "      <th></th>\n",
       "      <th></th>\n",
       "      <th></th>\n",
       "    </tr>\n",
       "  </thead>\n",
       "  <tbody>\n",
       "    <tr>\n",
       "      <th>Capomulin</th>\n",
       "      <td>40.675741</td>\n",
       "      <td>41.557809</td>\n",
       "      <td>24.947764</td>\n",
       "      <td>4.994774</td>\n",
       "      <td>0.329346</td>\n",
       "    </tr>\n",
       "    <tr>\n",
       "      <th>Ceftamin</th>\n",
       "      <td>52.591172</td>\n",
       "      <td>51.776157</td>\n",
       "      <td>39.290177</td>\n",
       "      <td>6.268188</td>\n",
       "      <td>0.469821</td>\n",
       "    </tr>\n",
       "    <tr>\n",
       "      <th>Infubinol</th>\n",
       "      <td>52.884795</td>\n",
       "      <td>51.820584</td>\n",
       "      <td>43.128684</td>\n",
       "      <td>6.567243</td>\n",
       "      <td>0.492236</td>\n",
       "    </tr>\n",
       "    <tr>\n",
       "      <th>Ketapril</th>\n",
       "      <td>55.235638</td>\n",
       "      <td>53.698743</td>\n",
       "      <td>68.553577</td>\n",
       "      <td>8.279709</td>\n",
       "      <td>0.603860</td>\n",
       "    </tr>\n",
       "    <tr>\n",
       "      <th>Naftisol</th>\n",
       "      <td>54.331565</td>\n",
       "      <td>52.509285</td>\n",
       "      <td>66.173479</td>\n",
       "      <td>8.134708</td>\n",
       "      <td>0.596466</td>\n",
       "    </tr>\n",
       "    <tr>\n",
       "      <th>Placebo</th>\n",
       "      <td>54.033581</td>\n",
       "      <td>52.288934</td>\n",
       "      <td>61.168083</td>\n",
       "      <td>7.821003</td>\n",
       "      <td>0.581331</td>\n",
       "    </tr>\n",
       "    <tr>\n",
       "      <th>Propriva</th>\n",
       "      <td>52.320930</td>\n",
       "      <td>50.446266</td>\n",
       "      <td>43.852013</td>\n",
       "      <td>6.622085</td>\n",
       "      <td>0.544332</td>\n",
       "    </tr>\n",
       "    <tr>\n",
       "      <th>Ramicane</th>\n",
       "      <td>40.216745</td>\n",
       "      <td>40.673236</td>\n",
       "      <td>23.486704</td>\n",
       "      <td>4.846308</td>\n",
       "      <td>0.320955</td>\n",
       "    </tr>\n",
       "    <tr>\n",
       "      <th>Stelasyn</th>\n",
       "      <td>54.233149</td>\n",
       "      <td>52.431737</td>\n",
       "      <td>59.450562</td>\n",
       "      <td>7.710419</td>\n",
       "      <td>0.573111</td>\n",
       "    </tr>\n",
       "    <tr>\n",
       "      <th>Zoniferol</th>\n",
       "      <td>53.236507</td>\n",
       "      <td>51.818479</td>\n",
       "      <td>48.533355</td>\n",
       "      <td>6.966589</td>\n",
       "      <td>0.516398</td>\n",
       "    </tr>\n",
       "  </tbody>\n",
       "</table>\n",
       "</div>"
      ],
      "text/plain": [
       "                   mean     median        var       std       sem\n",
       "Drug Regimen                                                     \n",
       "Capomulin     40.675741  41.557809  24.947764  4.994774  0.329346\n",
       "Ceftamin      52.591172  51.776157  39.290177  6.268188  0.469821\n",
       "Infubinol     52.884795  51.820584  43.128684  6.567243  0.492236\n",
       "Ketapril      55.235638  53.698743  68.553577  8.279709  0.603860\n",
       "Naftisol      54.331565  52.509285  66.173479  8.134708  0.596466\n",
       "Placebo       54.033581  52.288934  61.168083  7.821003  0.581331\n",
       "Propriva      52.320930  50.446266  43.852013  6.622085  0.544332\n",
       "Ramicane      40.216745  40.673236  23.486704  4.846308  0.320955\n",
       "Stelasyn      54.233149  52.431737  59.450562  7.710419  0.573111\n",
       "Zoniferol     53.236507  51.818479  48.533355  6.966589  0.516398"
      ]
     },
     "execution_count": 47,
     "metadata": {},
     "output_type": "execute_result"
    }
   ],
   "source": [
    "# Generate a summary statistics table of mean, median, variance, standard deviation, and SEM of the tumor volume for each regimen\n",
    "\n",
    "# Using the aggregation method, produce the same summary statistics in a single line\n",
    "summary_stats = grouped_regimen[\"Tumor Volume (mm3)\"].agg(['mean','median','var','std','sem'])\n",
    "summary_stats"
   ]
  },
  {
   "cell_type": "markdown",
   "metadata": {},
   "source": [
    "## Bar and Pie Charts"
   ]
  },
  {
   "cell_type": "code",
   "execution_count": 48,
   "metadata": {},
   "outputs": [
    {
     "data": {
      "image/png": "[encoded data removed]",
      "text/plain": [
       "<Figure size 432x288 with 1 Axes>"
      ]
     },
     "metadata": {
      "needs_background": "light"
     },
     "output_type": "display_data"
    }
   ],
   "source": [
    "# Generate a bar plot showing the total number of measurements taken on each drug regimen using pandas.\n",
    "# count number of measurements for each regimen\n",
    "measurement_total = grouped_regimen[\"Tumor Volume (mm3)\"].count()\n",
    "\n",
    "# Plot the data\n",
    "pandas_barplot = measurement_total.plot(kind=\"bar\", color=\"green\")\n",
    "plt.title(\"Number of Measurements Taken for Each Drug Regimen\", fontsize=18)\n",
    "plt.ylabel(\"Number of Measurements\")\n",
    "plt.tight_layout()\n",
    "plt.show()"
   ]
  },
  {
   "cell_type": "code",
   "execution_count": 49,
   "metadata": {},
   "outputs": [
    {
     "data": {
      "image/png": "[encoded data removed]",
      "text/plain": [
       "<Figure size 432x288 with 1 Axes>"
      ]
     },
     "metadata": {
      "needs_background": "light"
     },
     "output_type": "display_data"
    }
   ],
   "source": [
    "# Generate a bar plot showing the total number of measurements taken on each drug regimen using pyplot.\n",
    "# Create drug regimen labels\n",
    "drug_regimens = ['Capomulin', 'Ceftamin', 'Infubinol', 'Ketapril', 'Naftisol', 'Placebo', 'Propriva', 'Ramicane', \n",
    "                'Stelasyn', 'Zoniferol']\n",
    "\n",
    "# Generate x and y values\n",
    "x_axis = np.arange(0, len(drug_regimens))\n",
    "mice_count = grouped_regimen[\"Tumor Volume (mm3)\"].count().tolist()\n",
    "\n",
    "# Plot the data\n",
    "plt.bar(x_axis, mice_count, color=\"green\", align=\"center\")\n",
    "\n",
    "tick_locations = []\n",
    "for x in x_axis:\n",
    "    tick_locations.append(x)\n",
    "\n",
    "# Add labels and show the plot\n",
    "plt.title(\"Number of Measurements Taken for Each Drug Regimen\", fontsize=18)\n",
    "plt.xticks(tick_locations, drug_regimens, rotation=\"vertical\")\n",
    "plt.xlabel(\"Drug Regimen\")\n",
    "plt.ylabel(\"Number of Measurements\")\n",
    "plt.tight_layout()\n",
    "plt.show()"
   ]
  },
  {
   "cell_type": "code",
   "execution_count": 51,
   "metadata": {},
   "outputs": [
    {
     "data": {
      "image/png": "[encoded data removed]",
      "text/plain": [
       "<Figure size 432x288 with 1 Axes>"
      ]
     },
     "metadata": {},
     "output_type": "display_data"
    }
   ],
   "source": [
    "# Generate a pie plot showing the distribution of female versus male mice using pandas\n",
    "# Get counts for male and female rats\n",
    "grouped_gender = combined_data[\"Sex\"].value_counts()\n",
    "grouped_gender\n",
    "\n",
    "# Plot the pie chart\n",
    "colors = [\"red\", \"blue\"]\n",
    "explode = (0.1, 0)\n",
    "pie_pandas = grouped_gender.plot(kind=\"pie\", colors=colors, shadow=True, startangle=45, explode=explode, autopct=\"%.2f%%\")\n",
    "plt.title(\"Distribution of Male and Female Mice\", fontsize=20)\n",
    "plt.show()"
   ]
  },
  {
   "cell_type": "code",
   "execution_count": 52,
   "metadata": {},
   "outputs": [
    {
     "data": {
      "image/png": "[encoded data removed]",
      "text/plain": [
       "<Figure size 432x288 with 1 Axes>"
      ]
     },
     "metadata": {},
     "output_type": "display_data"
    }
   ],
   "source": [
    "# Generate a pie plot showing the distribution of female versus male mice using pyplot\n",
    "# create labels and plot features\n",
    "labels = [\"Male\", \"Female\"]\n",
    "sizes = [50.61, 49.39]\n",
    "colors = [\"red\", \"blue\"]\n",
    "explode = (0.1, 0)\n",
    "\n",
    "# Plot the data\n",
    "plt.pie(sizes, labels=labels, explode=explode, colors=colors, autopct=\"%.2f%%\", shadow=True, startangle=45)\n",
    "plt.title(\"Distribution of Male and Female Mice\", fontsize=20)\n",
    "plt.ylabel(\"Sex\")\n",
    "plt.show()"
   ]
  },
  {
   "cell_type": "markdown",
   "metadata": {},
   "source": [
    "## Quartiles, Outliers and Boxplots"
   ]
  },
  {
   "cell_type": "code",
   "execution_count": 53,
   "metadata": {},
   "outputs": [],
   "source": [
    "# Calculate the final tumor volume of each mouse across four of the treatment regimens:  \n",
    "# Capomulin, Ramicane, Infubinol, and Ceftamin\n",
    "\n",
    "# Get the last timepoint for each mouse accross the four treatments and create a new data frame for each \n",
    "cap = combined_data.loc[combined_data[\"Drug Regimen\"] == \"Capomulin\",:]\n",
    "cap_lasttime = cap.groupby(\"Mouse ID\")[\"Timepoint\"].max()\n",
    "cap_lasttime_df = pd.DataFrame(cap_lasttime)\n",
    "\n",
    "ram = combined_data.loc[combined_data[\"Drug Regimen\"] == \"Ramicane\", :]\n",
    "ram_lasttime = ram.groupby(\"Mouse ID\")[\"Timepoint\"].max()\n",
    "ram_lasttime_df = pd.DataFrame(ram_lasttime)\n",
    "\n",
    "inf = combined_data.loc[combined_data[\"Drug Regimen\"] == \"Infubinol\", :]\n",
    "inf_lasttime = inf.groupby(\"Mouse ID\")[\"Timepoint\"].max()\n",
    "inf_lasttime_df = pd.DataFrame(inf_lasttime)\n",
    "\n",
    "ceft = combined_data.loc[combined_data[\"Drug Regimen\"] == \"Ceftamin\", :]\n",
    "ceft_lasttime = ceft.groupby(\"Mouse ID\")[\"Timepoint\"].max()\n",
    "ceft_lasttime_df = pd.DataFrame(ceft_lasttime)\n",
    "\n",
    "# Merge this group df with the original dataframe to get the tumor volume at the last timepoint\n",
    "cap_merged = pd.merge(cap_lasttime_df, combined_data, on=(\"Mouse ID\",\"Timepoint\"),how=\"left\")"
   ]
  },
  {
   "cell_type": "code",
   "execution_count": 54,
   "metadata": {},
   "outputs": [
    {
     "name": "stdout",
     "output_type": "stream",
     "text": [
      "Capomulin Final Tumor values below 20.70456164999999 could be outliers.\n",
      "Capomulin Final Tumor values above 51.83201549 could be outliers.\n"
     ]
    }
   ],
   "source": [
    "# Merge and calculate the IQR and quantitatively determine if there are any potential outliers for Capomulin. \n",
    "cap_tumor = cap_merged[\"Tumor Volume (mm3)\"]\n",
    "\n",
    "quartiles = cap_tumor.quantile([.25,.5,.75])\n",
    "lowerq = quartiles[0.25]\n",
    "upperq = quartiles[0.75]\n",
    "iqr = upperq-lowerq\n",
    "lower_bound = lowerq - (1.5*iqr)\n",
    "upper_bound = upperq + (1.5*iqr)\n",
    "print(f\"Capomulin Final Tumor values below {lower_bound} could be outliers.\")\n",
    "print(f\"Capomulin Final Tumor values above {upper_bound} could be outliers.\")"
   ]
  },
  {
   "cell_type": "code",
   "execution_count": 55,
   "metadata": {},
   "outputs": [
    {
     "name": "stdout",
     "output_type": "stream",
     "text": [
      "Ramicane Final Tumor values below 17.912664470000003 could be outliers.\n",
      "Ramicane Final Tumor values above 54.30681135 could be outliers.\n"
     ]
    }
   ],
   "source": [
    "# Merge and calculate the IQR and quantitatively determine if there are any potential outliers for Ramicane. \n",
    "ram_merged = pd.merge(ram_lasttime_df, combined_data, on=(\"Mouse ID\",\"Timepoint\"),how=\"left\")\n",
    "ram_tumor = ram_merged[\"Tumor Volume (mm3)\"]\n",
    "\n",
    "quartiles = ram_tumor.quantile([.25,.5,.75])\n",
    "lowerq = quartiles[0.25]\n",
    "upperq = quartiles[0.75]\n",
    "iqr = upperq-lowerq\n",
    "lower_bound = lowerq - (1.5*iqr)\n",
    "upper_bound = upperq + (1.5*iqr)\n",
    "print(f\"Ramicane Final Tumor values below {lower_bound} could be outliers.\")\n",
    "print(f\"Ramicane Final Tumor values above {upper_bound} could be outliers.\")"
   ]
  },
  {
   "cell_type": "code",
   "execution_count": 56,
   "metadata": {},
   "outputs": [
    {
     "name": "stdout",
     "output_type": "stream",
     "text": [
      "Infubinol Final Tumor values below 36.83290494999999 could be outliers.\n",
      "Infubinol Final Tumor values above 82.74144559000001 could be outliers.\n"
     ]
    }
   ],
   "source": [
    "# Merge and calculate the IQR and quantitatively determine if there are any potential outliers for Infubinol. \n",
    "inf_merged = pd.merge(inf_lasttime_df, combined_data, on=(\"Mouse ID\",\"Timepoint\"),how=\"left\")\n",
    "inf_tumor = inf_merged[\"Tumor Volume (mm3)\"]\n",
    "\n",
    "quartiles = inf_tumor.quantile([.25,.5,.75])\n",
    "lowerq = quartiles[0.25]\n",
    "upperq = quartiles[0.75]\n",
    "iqr = upperq-lowerq\n",
    "lower_bound = lowerq - (1.5*iqr)\n",
    "upper_bound = upperq + (1.5*iqr)\n",
    "print(f\"Infubinol Final Tumor values below {lower_bound} could be outliers.\")\n",
    "print(f\"Infubinol Final Tumor values above {upper_bound} could be outliers.\")"
   ]
  },
  {
   "cell_type": "code",
   "execution_count": 57,
   "metadata": {},
   "outputs": [
    {
     "name": "stdout",
     "output_type": "stream",
     "text": [
      "Ceftamin Final Tumor values below 25.355449580000002 could be outliers.\n",
      "Ceftamin Final Tumor values above 87.66645829999999 could be outliers.\n"
     ]
    }
   ],
   "source": [
    "# Merge and calculate the IQR and quantitatively determine if there are any potential outliers for Ceftamin. \n",
    "ceft_merged = pd.merge(ceft_lasttime_df, combined_data, on=(\"Mouse ID\",\"Timepoint\"),how=\"left\")\n",
    "ceft_tumor = ceft_merged[\"Tumor Volume (mm3)\"]\n",
    "\n",
    "quartiles = ceft_tumor.quantile([.25,.5,.75])\n",
    "lowerq = quartiles[0.25]\n",
    "upperq = quartiles[0.75]\n",
    "iqr = upperq-lowerq\n",
    "lower_bound = lowerq - (1.5*iqr)\n",
    "upper_bound = upperq + (1.5*iqr)\n",
    "print(f\"Ceftamin Final Tumor values below {lower_bound} could be outliers.\")\n",
    "print(f\"Ceftamin Final Tumor values above {upper_bound} could be outliers.\")"
   ]
  },
  {
   "cell_type": "code",
   "execution_count": 38,
   "metadata": {},
   "outputs": [],
   "source": [
    "# # Put treatments into a list for for loop (and later for plot labels)\n",
    "# treatments = [\"Capomulin\", \"Ramicane\", \"Infubinol\", \"Ceftamin\"]\n",
    "\n",
    "# # Create empty list to fill with tumor vol data (for plotting)\n",
    "\n",
    "# # Calculate the IQR and quantitatively determine if there are any potential outliers. \n",
    "# quartiles = last_timepoints[\"Tumor Volume (mm3)\"].quantile([.25,.5,.75])\n",
    "# lowerq = quartiles[0.25]\n",
    "# upperq = quartiles[0.75]\n",
    "# iqr = upperq-lowerq\n",
    "    \n",
    "#     # Locate the rows which contain mice on each drug and get the tumor volumes\n",
    "    \n",
    "    \n",
    "#     # add subset \n",
    "    \n",
    "    \n",
    "#     # Determine outliers using upper and lower bounds\n",
    "# lower_bound = lowerq - (1.5*iqr)\n",
    "# upper_bound = upperq + (1.5*iqr)"
   ]
  },
  {
   "cell_type": "code",
   "execution_count": 59,
   "metadata": {},
   "outputs": [
    {
     "data": {
      "text/plain": [
       "{'whiskers': [<matplotlib.lines.Line2D at 0x7ff61bca2610>,\n",
       "  <matplotlib.lines.Line2D at 0x7ff61bca2c40>,\n",
       "  <matplotlib.lines.Line2D at 0x7ff61b7f3040>,\n",
       "  <matplotlib.lines.Line2D at 0x7ff61b5294f0>,\n",
       "  <matplotlib.lines.Line2D at 0x7ff61b841190>,\n",
       "  <matplotlib.lines.Line2D at 0x7ff61b841df0>,\n",
       "  <matplotlib.lines.Line2D at 0x7ff61b823bb0>,\n",
       "  <matplotlib.lines.Line2D at 0x7ff61b823a90>],\n",
       " 'caps': [<matplotlib.lines.Line2D at 0x7ff61bca2d00>,\n",
       "  <matplotlib.lines.Line2D at 0x7ff61bca2520>,\n",
       "  <matplotlib.lines.Line2D at 0x7ff61b8eb8e0>,\n",
       "  <matplotlib.lines.Line2D at 0x7ff61b8ebfd0>,\n",
       "  <matplotlib.lines.Line2D at 0x7ff61b841a90>,\n",
       "  <matplotlib.lines.Line2D at 0x7ff61b8415b0>,\n",
       "  <matplotlib.lines.Line2D at 0x7ff61b82cd90>,\n",
       "  <matplotlib.lines.Line2D at 0x7ff61b82c070>],\n",
       " 'boxes': [<matplotlib.lines.Line2D at 0x7ff61bca22b0>,\n",
       "  <matplotlib.lines.Line2D at 0x7ff61b7f3370>,\n",
       "  <matplotlib.lines.Line2D at 0x7ff61b841220>,\n",
       "  <matplotlib.lines.Line2D at 0x7ff61b823220>],\n",
       " 'medians': [<matplotlib.lines.Line2D at 0x7ff61b7f31c0>,\n",
       "  <matplotlib.lines.Line2D at 0x7ff61b8eb370>,\n",
       "  <matplotlib.lines.Line2D at 0x7ff61c0bb400>,\n",
       "  <matplotlib.lines.Line2D at 0x7ff61b82c580>],\n",
       " 'fliers': [<matplotlib.lines.Line2D at 0x7ff61b7f35e0>,\n",
       "  <matplotlib.lines.Line2D at 0x7ff61b8ebc70>,\n",
       "  <matplotlib.lines.Line2D at 0x7ff61b823df0>,\n",
       "  <matplotlib.lines.Line2D at 0x7ff61b82c670>],\n",
       " 'means': []}"
      ]
     },
     "execution_count": 59,
     "metadata": {},
     "output_type": "execute_result"
    },
    {
     "data": {
      "image/png": "[encoded data removed]",
      "text/plain": [
       "<Figure size 432x288 with 1 Axes>"
      ]
     },
     "metadata": {
      "needs_background": "light"
     },
     "output_type": "display_data"
    }
   ],
   "source": [
    "# Generate a box plot of the final tumor volume of each mouse across four regimens of interest\n",
    "tumor_data = [cap_tumor, ram_tumor, inf_tumor, ceft_tumor]\n",
    "red_square = dict(markerfacecolor='r', marker='s')\n",
    "\n",
    "fig1, ax1 = plt.subplots()\n",
    "ax1.set_title(\"Final Tumor Volume Box Plot\", fontsize=18)\n",
    "ax1.set_ylabel(\"Tumor Volume (mm3)\")\n",
    "ax1.set_xlabel(\"Drug Regimen\")\n",
    "ax1.boxplot(tumor_data, labels = [\"Capomulin\", \"Ramicane\", \"Infubinol\", \"Ceftamin\"], flierprops=red_square)"
   ]
  },
  {
   "cell_type": "markdown",
   "metadata": {},
   "source": [
    "## Line and Scatter Plots"
   ]
  },
  {
   "cell_type": "code",
   "execution_count": 61,
   "metadata": {},
   "outputs": [
    {
     "data": {
      "image/png": "[encoded data removed]",
      "text/plain": [
       "<Figure size 432x288 with 1 Axes>"
      ]
     },
     "metadata": {
      "needs_background": "light"
     },
     "output_type": "display_data"
    }
   ],
   "source": [
    "# Generate a line plot of tumor volume vs. time point for a mouse treated with Capomulin\n",
    "# Locate m601\n",
    "m601_data = cap.loc[cap[\"Mouse ID\"]==\"m601\"]\n",
    "\n",
    "# Get data for m601\n",
    "x_axis = m601_data[\"Timepoint\"]\n",
    "tum_vol = m601_data[\"Tumor Volume (mm3)\"]\n",
    "\n",
    "# Show the line plot\n",
    "plt.plot(x_axis, tum_vol)\n",
    "plt.title(\"Tumor Volume vs. Timepoint for m601 on Capomulin\", fontsize=18)\n",
    "plt.xlabel(\"Timepoint\")\n",
    "plt.ylabel(\"Tumor Volume (mm3)\")\n",
    "plt.xlim(0,45)\n",
    "plt.ylim(25, 47)\n",
    "plt.show()"
   ]
  },
  {
   "cell_type": "code",
   "execution_count": 62,
   "metadata": {},
   "outputs": [
    {
     "data": {
      "image/png": "[encoded data removed]",
      "text/plain": [
       "<Figure size 432x288 with 1 Axes>"
      ]
     },
     "metadata": {
      "needs_background": "light"
     },
     "output_type": "display_data"
    }
   ],
   "source": [
    "# Generate a scatter plot of average tumor volume vs. mouse weight for the Capomulin regimen\n",
    "# Get average tumor volume and mouse weight\n",
    "avg_vol = cap.groupby(\"Mouse ID\")[\"Tumor Volume (mm3)\"].mean()\n",
    "avg_weight = cap.groupby(\"Mouse ID\")[\"Weight (g)\"].mean()\n",
    "\n",
    "# show the scatter plot\n",
    "plt.scatter(avg_weight, avg_vol, marker=\"o\", facecolors='red', edgecolors=\"black\")\n",
    "plt.title(\"Average Tumor Volume vs. Average Mouse Weight in the Capomulin Regimen\", fontsize = 18)\n",
    "plt.xlabel(\"Average Weight (g)\")\n",
    "plt.ylabel(\"Average Tumor Volume (mm3)\")\n",
    "plt.ylim(33, 47)\n",
    "plt.xlim(14, 26)\n",
    "plt.show()"
   ]
  },
  {
   "cell_type": "markdown",
   "metadata": {},
   "source": [
    "## Correlation and Regression"
   ]
  },
  {
   "cell_type": "code",
   "execution_count": 63,
   "metadata": {},
   "outputs": [
    {
     "name": "stdout",
     "output_type": "stream",
     "text": [
      "The correlation coefficient between mouse weight and average tumor volums is 0.84\n"
     ]
    }
   ],
   "source": [
    "# Calculate the correlation coefficient and linear regression model \n",
    "# for mouse weight and average tumor volume for the Capomulin regimen\n",
    "correlation = sts.pearsonr(avg_weight, avg_vol)\n",
    "print(f'The correlation coefficient between mouse weight and average tumor volums is {round(correlation[0],2)}')"
   ]
  },
  {
   "cell_type": "code",
   "execution_count": 65,
   "metadata": {},
   "outputs": [
    {
     "name": "stdout",
     "output_type": "stream",
     "text": [
      "The r-squared is: 0.7088568047708717\n"
     ]
    },
    {
     "data": {
      "image/png": "[encoded data removed]",
      "text/plain": [
       "<Figure size 432x288 with 1 Axes>"
      ]
     },
     "metadata": {
      "needs_background": "light"
     },
     "output_type": "display_data"
    }
   ],
   "source": [
    "# Import linregress\n",
    "from scipy.stats import linregress\n",
    "\n",
    "# Create x and y values\n",
    "x_values = avg_weight\n",
    "y_values = avg_vol\n",
    "\n",
    "# Calculate linear regression model\n",
    "(slope, intercept, rvalue, pvalue, stderr) = linregress(x_values, y_values)\n",
    "regress_values = x_values * slope + intercept\n",
    "line_eq = \"y = \" + str(round(slope,2)) + \"x + \" + str(round(intercept,2))\n",
    "\n",
    "# Show the scatter plot with the linear equation and print the r-squared value\n",
    "plt.scatter(x_values,y_values)\n",
    "plt.plot(x_values,regress_values,\"r-\")\n",
    "plt.annotate(line_eq,(20,38),fontsize=15,color=\"red\")\n",
    "plt.title(\"Average Tumor Volume vs. Average Mouse Weight in the Capomulin Regimen\", fontsize = 18)\n",
    "plt.xlabel(\"Average Weight (g)\")\n",
    "plt.ylabel(\"Average Tumor Volume (mm3)\")\n",
    "plt.ylim(33, 47)\n",
    "plt.xlim(14, 26)\n",
    "print(f\"The r-squared is: {rvalue**2}\")\n",
    "plt.show()"
   ]
  },
  {
   "cell_type": "code",
   "execution_count": null,
   "metadata": {},
   "outputs": [],
   "source": []
  }
 ],
 "metadata": {
  "anaconda-cloud": {},
  "kernelspec": {
   "display_name": "Python [conda env:.conda-PythonData]*",
   "language": "python",
   "name": "myenv"
  },
  "language_info": {
   "codemirror_mode": {
    "name": "ipython",
    "version": 3
   },
   "file_extension": ".py",
   "mimetype": "text/x-python",
   "name": "python",
   "nbconvert_exporter": "python",
   "pygments_lexer": "ipython3",
   "version": "3.8.5"
  }
 },
 "nbformat": 4,
 "nbformat_minor": 4
}
